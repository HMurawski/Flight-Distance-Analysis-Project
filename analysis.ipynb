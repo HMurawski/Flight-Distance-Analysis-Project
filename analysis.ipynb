{
 "cells": [
  {
   "cell_type": "markdown",
   "metadata": {},
   "source": [
    "# Introduction\n",
    "In this project, I aim to verify the accuracy of point-to-point mileage data provided by airlines for a large financial client. My objective is to calculate true distances between major destination pairs and compare these values to those quoted by carriers to identify potential discrepancies.\n",
    "\n"
   ]
  },
  {
   "cell_type": "markdown",
   "metadata": {},
   "source": [
    "## Data Loading\n",
    "In this section, I will load the dataset and inspect its structure to understand the available columns, data types, and any initial observations regarding data quality.\n"
   ]
  },
  {
   "cell_type": "code",
   "execution_count": 1,
   "metadata": {},
   "outputs": [
    {
     "data": {
      "text/html": [
       "<div>\n",
       "<style scoped>\n",
       "    .dataframe tbody tr th:only-of-type {\n",
       "        vertical-align: middle;\n",
       "    }\n",
       "\n",
       "    .dataframe tbody tr th {\n",
       "        vertical-align: top;\n",
       "    }\n",
       "\n",
       "    .dataframe thead th {\n",
       "        text-align: right;\n",
       "    }\n",
       "</style>\n",
       "<table border=\"1\" class=\"dataframe\">\n",
       "  <thead>\n",
       "    <tr style=\"text-align: right;\">\n",
       "      <th></th>\n",
       "      <th>Normalised City Pair</th>\n",
       "      <th>CITY1</th>\n",
       "      <th>CITY2</th>\n",
       "      <th>unique departure city</th>\n",
       "      <th>unique arrival city</th>\n",
       "      <th>Departure Code</th>\n",
       "      <th>Arrival Code</th>\n",
       "      <th>Departure_lat</th>\n",
       "      <th>Departure_lon</th>\n",
       "      <th>Arrival_lat</th>\n",
       "      <th>Arrival_lon</th>\n",
       "    </tr>\n",
       "  </thead>\n",
       "  <tbody>\n",
       "    <tr>\n",
       "      <th>0</th>\n",
       "      <td>London, United Kingdom - New York, United Stat...</td>\n",
       "      <td>London, United Kingdom</td>\n",
       "      <td>New York, United States Of America</td>\n",
       "      <td>London, United Kingdom</td>\n",
       "      <td>New York, United States Of America</td>\n",
       "      <td>LHR</td>\n",
       "      <td>JFK</td>\n",
       "      <td>51.5</td>\n",
       "      <td>-0.45</td>\n",
       "      <td>40.64</td>\n",
       "      <td>-73.79</td>\n",
       "    </tr>\n",
       "    <tr>\n",
       "      <th>1</th>\n",
       "      <td>Johannesburg, South Africa - London, United Ki...</td>\n",
       "      <td>Johannesburg, South Africa</td>\n",
       "      <td>London, United Kingdom</td>\n",
       "      <td>Johannesburg, South Africa</td>\n",
       "      <td>London, United Kingdom</td>\n",
       "      <td>JNB</td>\n",
       "      <td>LHR</td>\n",
       "      <td>-26.1</td>\n",
       "      <td>28.23</td>\n",
       "      <td>51.47</td>\n",
       "      <td>-0.45</td>\n",
       "    </tr>\n",
       "    <tr>\n",
       "      <th>2</th>\n",
       "      <td>London, United Kingdom - New York, United Stat...</td>\n",
       "      <td>London, United Kingdom</td>\n",
       "      <td>New York, United States Of America</td>\n",
       "      <td>Bombay, India</td>\n",
       "      <td>Singapore, Singapore</td>\n",
       "      <td>LHR</td>\n",
       "      <td>JFK</td>\n",
       "      <td>51.5</td>\n",
       "      <td>-0.45</td>\n",
       "      <td>40.64</td>\n",
       "      <td>-73.79</td>\n",
       "    </tr>\n",
       "    <tr>\n",
       "      <th>3</th>\n",
       "      <td>Johannesburg, South Africa - London, United Ki...</td>\n",
       "      <td>Johannesburg, South Africa</td>\n",
       "      <td>London, United Kingdom</td>\n",
       "      <td>Dubai, United Arab Emirates</td>\n",
       "      <td>Newark, United States Of America</td>\n",
       "      <td>JNB</td>\n",
       "      <td>LHR</td>\n",
       "      <td>-26.1</td>\n",
       "      <td>28.23</td>\n",
       "      <td>51.47</td>\n",
       "      <td>-0.45</td>\n",
       "    </tr>\n",
       "    <tr>\n",
       "      <th>4</th>\n",
       "      <td>London, United Kingdom - Singapore, Singapore</td>\n",
       "      <td>London, United Kingdom</td>\n",
       "      <td>Singapore, Singapore</td>\n",
       "      <td>Delhi, India</td>\n",
       "      <td>San Francisco, United States Of America</td>\n",
       "      <td>SIN</td>\n",
       "      <td>LHR</td>\n",
       "      <td>1.3</td>\n",
       "      <td>103.98</td>\n",
       "      <td>51.47</td>\n",
       "      <td>-0.45</td>\n",
       "    </tr>\n",
       "  </tbody>\n",
       "</table>\n",
       "</div>"
      ],
      "text/plain": [
       "                                Normalised City Pair  \\\n",
       "0  London, United Kingdom - New York, United Stat...   \n",
       "1  Johannesburg, South Africa - London, United Ki...   \n",
       "2  London, United Kingdom - New York, United Stat...   \n",
       "3  Johannesburg, South Africa - London, United Ki...   \n",
       "4      London, United Kingdom - Singapore, Singapore   \n",
       "\n",
       "                        CITY1                               CITY2  \\\n",
       "0      London, United Kingdom  New York, United States Of America   \n",
       "1  Johannesburg, South Africa              London, United Kingdom   \n",
       "2      London, United Kingdom  New York, United States Of America   \n",
       "3  Johannesburg, South Africa              London, United Kingdom   \n",
       "4      London, United Kingdom                Singapore, Singapore   \n",
       "\n",
       "         unique departure city                      unique arrival city  \\\n",
       "0       London, United Kingdom       New York, United States Of America   \n",
       "1   Johannesburg, South Africa                   London, United Kingdom   \n",
       "2                Bombay, India                     Singapore, Singapore   \n",
       "3  Dubai, United Arab Emirates         Newark, United States Of America   \n",
       "4                 Delhi, India  San Francisco, United States Of America   \n",
       "\n",
       "  Departure Code Arrival Code  Departure_lat  Departure_lon  Arrival_lat  \\\n",
       "0            LHR          JFK           51.5          -0.45        40.64   \n",
       "1            JNB          LHR          -26.1          28.23        51.47   \n",
       "2            LHR          JFK           51.5          -0.45        40.64   \n",
       "3            JNB          LHR          -26.1          28.23        51.47   \n",
       "4            SIN          LHR            1.3         103.98        51.47   \n",
       "\n",
       "   Arrival_lon  \n",
       "0       -73.79  \n",
       "1        -0.45  \n",
       "2       -73.79  \n",
       "3        -0.45  \n",
       "4        -0.45  "
      ]
     },
     "execution_count": 1,
     "metadata": {},
     "output_type": "execute_result"
    }
   ],
   "source": [
    "import pandas as pd\n",
    "\n",
    "file_path = 'FlightDistanceTest.csv'\n",
    "flight_data = pd.read_csv(file_path)\n",
    "\n",
    "flight_data.head()"
   ]
  },
  {
   "cell_type": "markdown",
   "metadata": {},
   "source": [
    "## Initial Data Exploration\n",
    "To begin my analysis, I'll perform a preliminary exploration of the dataset. This includes checking for null values, examining unique entries in key columns, and looking for any obvious inconsistencies.\n"
   ]
  },
  {
   "cell_type": "code",
   "execution_count": 2,
   "metadata": {},
   "outputs": [
    {
     "name": "stdout",
     "output_type": "stream",
     "text": [
      "<class 'pandas.core.frame.DataFrame'>\n",
      "RangeIndex: 3000 entries, 0 to 2999\n",
      "Data columns (total 11 columns):\n",
      " #   Column                 Non-Null Count  Dtype  \n",
      "---  ------                 --------------  -----  \n",
      " 0   Normalised City Pair   3000 non-null   object \n",
      " 1   CITY1                  3000 non-null   object \n",
      " 2   CITY2                  3000 non-null   object \n",
      " 3   unique departure city  281 non-null    object \n",
      " 4   unique arrival city    254 non-null    object \n",
      " 5   Departure Code         3000 non-null   object \n",
      " 6   Arrival Code           3000 non-null   object \n",
      " 7   Departure_lat          3000 non-null   float64\n",
      " 8   Departure_lon          3000 non-null   float64\n",
      " 9   Arrival_lat            3000 non-null   float64\n",
      " 10  Arrival_lon            3000 non-null   float64\n",
      "dtypes: float64(4), object(7)\n",
      "memory usage: 257.9+ KB\n"
     ]
    }
   ],
   "source": [
    "flight_data.info()"
   ]
  },
  {
   "cell_type": "code",
   "execution_count": 3,
   "metadata": {},
   "outputs": [],
   "source": [
    "#Data Preparation in Excel\n",
    "#In the original CSV file, I performed initial data preparation steps in Excel:\n",
    "#1. Split the `Normalised City Pair` column into separate columns for each city.\n",
    "#2. Created lists of unique departure and arrival cities.\n",
    "#3. Conducted basic data exploration to identify potential errors in the dataset."
   ]
  },
  {
   "cell_type": "markdown",
   "metadata": {},
   "source": [
    "## Consistency Check for City Coordinates\n",
    "In this section, I will verify the consistency of latitude and longitude values for each unique city. The objective is to ensure that each city has a single, correct set of coordinates, which will be essential for accurate distance calculations later on.\n",
    "\n"
   ]
  },
  {
   "cell_type": "markdown",
   "metadata": {},
   "source": [
    "### Checking Coordinate Consistency for Unique Cities\n",
    "To ensure that each unique city has a single set of latitude and longitude coordinates, I will group by `Departure Code` and `Arrival Code` and count the number of distinct latitude-longitude pairs. Cities with more than one unique pair may have inconsistencies that could affect our distance calculations.\n",
    "\n"
   ]
  },
  {
   "cell_type": "code",
   "execution_count": 4,
   "metadata": {},
   "outputs": [],
   "source": [
    "unique_departure_cities = flight_data['Departure Code'].unique()\n",
    "unique_arrival_cities = flight_data['Arrival Code'].unique()"
   ]
  },
  {
   "cell_type": "code",
   "execution_count": 5,
   "metadata": {},
   "outputs": [
    {
     "data": {
      "text/plain": [
       "(array(['LHR', 'JNB', 'SIN', 'JFK', 'LCY', 'EWR', 'DXB', 'DEL', 'DME',\n",
       "        'SFO'], dtype=object),\n",
       " array(['JFK', 'LHR', 'LCY', 'BOM', 'SFO', 'HKG', 'LAX', 'CPT', 'GRU',\n",
       "        'LIN'], dtype=object))"
      ]
     },
     "execution_count": 5,
     "metadata": {},
     "output_type": "execute_result"
    }
   ],
   "source": [
    "# Displaying the unique values in both columns to check for consistency\n",
    "unique_departure_cities[:10], unique_arrival_cities[:10]"
   ]
  },
  {
   "cell_type": "code",
   "execution_count": 6,
   "metadata": {},
   "outputs": [],
   "source": [
    "#Group by 'Departure Code' and aggregate unique values for lat/lon coordinates\n",
    "departure_coord_check = flight_data.groupby('Departure Code')[['Departure_lat', 'Departure_lon']].nunique()\n",
    "\n",
    "# Group by 'Arrival Code' and aggregate unique values for lat/lon coordinates\n",
    "arrival_coord_check = flight_data.groupby('Arrival Code')[['Arrival_lat', 'Arrival_lon']].nunique()"
   ]
  },
  {
   "cell_type": "code",
   "execution_count": 7,
   "metadata": {},
   "outputs": [
    {
     "data": {
      "text/plain": [
       "(                Departure_lat  Departure_lon\n",
       " Departure Code                              \n",
       " ABQ                         2              2\n",
       " ACC                         4              4\n",
       " AMS                         3              3\n",
       " ARN                         3              3\n",
       " ASE                         2              2\n",
       " ...                       ...            ...\n",
       " VNO                         4              4\n",
       " WAW                         2              2\n",
       " YYC                         3              3\n",
       " YYZ                         3              3\n",
       " ZRH                         3              3\n",
       " \n",
       " [120 rows x 2 columns],\n",
       " Empty DataFrame\n",
       " Columns: [Arrival_lat, Arrival_lon]\n",
       " Index: [])"
      ]
     },
     "execution_count": 7,
     "metadata": {},
     "output_type": "execute_result"
    }
   ],
   "source": [
    "# Display rows where the lat/lon counts are more than 1, indicating potential inconsistencies\n",
    "departure_coord_inconsistencies = departure_coord_check[(departure_coord_check['Departure_lat'] > 1) | (departure_coord_check['Departure_lon'] > 1)]\n",
    "arrival_coord_inconsistencies = arrival_coord_check[(arrival_coord_check['Arrival_lat'] > 1) | (arrival_coord_check['Arrival_lon'] > 1)]\n",
    "\n",
    "departure_coord_inconsistencies, arrival_coord_inconsistencies"
   ]
  },
  {
   "cell_type": "code",
   "execution_count": 8,
   "metadata": {},
   "outputs": [],
   "source": [
    "# Extract inconsistent departure codes\n",
    "inconsistent_departure_codes = departure_coord_inconsistencies.index.tolist()"
   ]
  },
  {
   "cell_type": "code",
   "execution_count": 9,
   "metadata": {},
   "outputs": [
    {
     "name": "stdout",
     "output_type": "stream",
     "text": [
      "    Departure Code  Departure_lat  Departure_lon  Count\n",
      "0              ABQ           35.1        -106.63      1\n",
      "1              ABQ           39.8        -104.86      1\n",
      "2              ACC           -1.3          36.81      4\n",
      "3              ACC            5.6          -0.17      5\n",
      "4              ACC           25.3          55.35      1\n",
      "..             ...            ...            ...    ...\n",
      "404            YYZ           43.7         -79.61     26\n",
      "405            YYZ           50.1           8.56      1\n",
      "406            ZRH           47.5           8.57     37\n",
      "407            ZRH           50.1           8.56      4\n",
      "408            ZRH           51.5          -0.45      2\n",
      "\n",
      "[409 rows x 4 columns]\n"
     ]
    }
   ],
   "source": [
    "# Filter the original data for rows with inconsistent departure codes\n",
    "inconsistent_departure_data = flight_data[flight_data['Departure Code'].isin(inconsistent_departure_codes)]\n",
    "\n",
    "# Group the inconsistent data by 'Departure Code' to show all unique lat/lon pairs for each inconsistent code\n",
    "departure_inconsistent_pairs = inconsistent_departure_data.groupby(['Departure Code', 'Departure_lat', 'Departure_lon']).size().reset_index(name='Count')\n",
    "print(departure_inconsistent_pairs)\n"
   ]
  },
  {
   "cell_type": "code",
   "execution_count": 20,
   "metadata": {},
   "outputs": [],
   "source": [
    "import math\n",
    "\n",
    "def haversine(lat1, lon1, lat2, lon2, radius=6371, unit=\"km\"):\n",
    "    \"\"\" \n",
    "    Calculate the great-circle distance between two points on the Earth's surface.\n",
    "\n",
    "    Parameters:\n",
    "    ----------\n",
    "    lat1 : float\n",
    "        Latitude of the first point in degrees.\n",
    "    lon1 : float\n",
    "        Longitude of the first point in degrees.\n",
    "    lat2 : float\n",
    "        Latitude of the second point in degrees.\n",
    "    lon2 : float\n",
    "        Longitude of the second point in degrees.\n",
    "    radius : float, optional\n",
    "        Radius of the Earth. Default is 6371 km.\n",
    "    unit : str, optional\n",
    "        Unit of distance. 'km' for kilometers (default) or 'miles'.\n",
    "\n",
    "    Returns:\n",
    "    -------\n",
    "    float\n",
    "        Distance between the two points in the specified unit.\n",
    "    \n",
    "    \"\"\"\n",
    "    # Convert latitude and longitude from degrees to radians\n",
    "    lat1, lon1, lat2, lon2 = map(math.radians, [lat1, lon1, lat2, lon2])\n",
    "    \n",
    "    #Haversine formula\n",
    "    dlat = lat2 - lat1\n",
    "    dlon = lon2 - lon1\n",
    "    a = math.sin(dlat / 2)**2 + math.cos(lat1) * math.cos(lat2) * math.sin(dlon / 2)**2\n",
    "    c = 2 * math.asin(math.sqrt(a))\n",
    "    \n",
    "    #distance in kms\n",
    "    distance_km = radius * c\n",
    "    \n",
    "    if unit == \"miles\":\n",
    "        return distance_km * 0.621371\n",
    "    \n",
    "    return distance_km\n"
   ]
  },
  {
   "cell_type": "code",
   "execution_count": 22,
   "metadata": {},
   "outputs": [
    {
     "name": "stdout",
     "output_type": "stream",
     "text": [
      "5540.14\n",
      "4152\n"
     ]
    }
   ],
   "source": [
    "#testing the function on a sample pair of coordinates\n",
    "#used site called: https://www.latlong.net/ to veryfi some of the coordinates\n",
    "#and also: https://www.distance.to/JFK/LHR to double check the calculations and if my function works correctly. \n",
    "sample_distance = haversine(51.5, -0.45, 40.64, -73.79) #London to JFK\n",
    "print(round(sample_distance,2))\n",
    "\n",
    "jfk_sfo_test = haversine(40.64, -73.79, 37.61, -122.39)\n",
    "print(round(jfk_sfo_test))"
   ]
  },
  {
   "cell_type": "markdown",
   "metadata": {},
   "source": [
    "### Filtering Most Frequent Coordinates as Reference Values\n",
    "Assuming the coordinates with the highest occurrence count are correct, I will filter these for each inconsistent departure code.\n"
   ]
  },
  {
   "cell_type": "code",
   "execution_count": 12,
   "metadata": {},
   "outputs": [],
   "source": [
    "# Identify the most frequent coordinates for each inconsistent departure code\n",
    "correct_departure_coords = departure_inconsistent_pairs.loc[\n",
    "    departure_inconsistent_pairs.groupby('Departure Code')['Count'].idxmax()\n",
    "]"
   ]
  },
  {
   "cell_type": "code",
   "execution_count": 13,
   "metadata": {},
   "outputs": [],
   "source": [
    "# Create a dictionary of correct coordinates based on the most frequent values\n",
    "correct_coords_dict = correct_departure_coords.set_index('Departure Code')[['Departure_lat', 'Departure_lon']].to_dict('index')"
   ]
  },
  {
   "cell_type": "code",
   "execution_count": 14,
   "metadata": {},
   "outputs": [],
   "source": [
    "# Define function to retrieve correct coordinates from the dictionary\n",
    "def get_correct_coords(code):\n",
    "    \"\"\"Retrieve correct latitude and longitude for a given departure code.\"\"\"\n",
    "    return correct_coords_dict.get(code, {'Departure_lat': None, 'Departure_lon': None})"
   ]
  },
  {
   "cell_type": "code",
   "execution_count": 15,
   "metadata": {},
   "outputs": [],
   "source": [
    "# Apply correct coordinates for inconsistent codes\n",
    "flight_data['Correct_Departure_lat'] = flight_data['Departure Code'].apply(lambda x: get_correct_coords(x)['Departure_lat'])\n",
    "flight_data['Correct_Departure_lon'] = flight_data['Departure Code'].apply(lambda x: get_correct_coords(x)['Departure_lon'])"
   ]
  },
  {
   "cell_type": "code",
   "execution_count": 16,
   "metadata": {},
   "outputs": [],
   "source": [
    "# Identify and fill correct coordinates for consistently used codes\n",
    "consistent_departure_coords = flight_data.groupby('Departure Code')[['Departure_lat', 'Departure_lon']].nunique()\n",
    "consistent_departure_codes = consistent_departure_coords[\n",
    "    (consistent_departure_coords['Departure_lat'] == 1) & (consistent_departure_coords['Departure_lon'] == 1)\n",
    "].index.tolist()"
   ]
  },
  {
   "cell_type": "code",
   "execution_count": 17,
   "metadata": {},
   "outputs": [],
   "source": [
    "\n",
    "for code in consistent_departure_codes:\n",
    "    mask = (flight_data['Departure Code'] == code) & (flight_data['Correct_Departure_lat'].isnull())\n",
    "    flight_data.loc[mask, 'Correct_Departure_lat'] = flight_data.loc[mask, 'Departure_lat']\n",
    "    flight_data.loc[mask, 'Correct_Departure_lon'] = flight_data.loc[mask, 'Departure_lon']"
   ]
  },
  {
   "cell_type": "code",
   "execution_count": 18,
   "metadata": {},
   "outputs": [],
   "source": [
    "# Calculate reference distance using correct coordinates for departure and arrival\n",
    "flight_data['Reference_Distance'] = flight_data.apply(\n",
    "    lambda row: haversine(row['Correct_Departure_lat'], row['Correct_Departure_lon'], row['Arrival_lat'], row['Arrival_lon']),\n",
    "    axis=1\n",
    ")"
   ]
  },
  {
   "cell_type": "markdown",
   "metadata": {},
   "source": [
    "## Conclusion\n",
    "In this analysis, I thoroughly examined the provided dataset to diagnose and address data inconsistencies. I identified errors, specifically in the departure latitude and longitude values for certain airport codes, which displayed multiple coordinate pairs for the same airport. By evaluating the frequency of each coordinate set and cross-referencing with external sources, I determined the most accurate values for each airport. Using these verified coordinates, I calculated precise point-to-point distances between departure and arrival airports. This final dataset provides reliable distances, which can now be compared effectively with carrier-provided values.\n",
    "\n"
   ]
  },
  {
   "cell_type": "code",
   "execution_count": 19,
   "metadata": {},
   "outputs": [],
   "source": [
    "# Selecting relevant columns for export\n",
    "export_columns = [\n",
    "    'Departure Code', 'Correct_Departure_lat', 'Correct_Departure_lon',\n",
    "    'Arrival Code', 'Arrival_lat', 'Arrival_lon', \n",
    "    'Reference_Distance',\n",
    "]\n",
    "\n",
    "# Export to CSV\n",
    "flight_data[export_columns].to_csv('FlightDistanceResults.csv', index=False)\n"
   ]
  },
  {
   "cell_type": "code",
   "execution_count": null,
   "metadata": {},
   "outputs": [],
   "source": []
  }
 ],
 "metadata": {
  "kernelspec": {
   "display_name": "Python 3",
   "language": "python",
   "name": "python3"
  },
  "language_info": {
   "codemirror_mode": {
    "name": "ipython",
    "version": 3
   },
   "file_extension": ".py",
   "mimetype": "text/x-python",
   "name": "python",
   "nbconvert_exporter": "python",
   "pygments_lexer": "ipython3",
   "version": "3.11.3"
  }
 },
 "nbformat": 4,
 "nbformat_minor": 2
}
